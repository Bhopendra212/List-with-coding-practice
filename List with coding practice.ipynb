{
 "cells": [
  {
   "cell_type": "code",
   "execution_count": 1,
   "id": "1332730a-5332-48b6-b943-4cd32ffff78b",
   "metadata": {},
   "outputs": [],
   "source": [
    "list1=[]         #empty list"
   ]
  },
  {
   "cell_type": "code",
   "execution_count": 2,
   "id": "58ec8415-2109-4a7f-8b17-17f1fafedad4",
   "metadata": {},
   "outputs": [
    {
     "name": "stdout",
     "output_type": "stream",
     "text": [
      "<class 'list'>\n"
     ]
    }
   ],
   "source": [
    "print(type(list1))     #type"
   ]
  },
  {
   "cell_type": "code",
   "execution_count": 3,
   "id": "c9fe783c-0533-4623-b59b-ffc3e69d2039",
   "metadata": {},
   "outputs": [
    {
     "name": "stdout",
     "output_type": "stream",
     "text": [
      "[10, 'rishi', 'true', 15.5, 'rishu', 12]\n"
     ]
    }
   ],
   "source": [
    "list2=[10,'rishi','true',15.5,'rishu',12]\n",
    "print(list2)"
   ]
  },
  {
   "cell_type": "code",
   "execution_count": null,
   "id": "c9ea4765-01bf-4c29-9efa-eb4e0ed6e539",
   "metadata": {},
   "outputs": [],
   "source": [
    "#creating list by using list function"
   ]
  },
  {
   "cell_type": "code",
   "execution_count": 4,
   "id": "704e9e95-3194-4e9d-b94c-2f4f36704a21",
   "metadata": {},
   "outputs": [
    {
     "name": "stdout",
     "output_type": "stream",
     "text": [
      "<class 'list'>\n"
     ]
    }
   ],
   "source": [
    "list3=list()\n",
    "print(type(list3))"
   ]
  },
  {
   "cell_type": "code",
   "execution_count": 5,
   "id": "3e97197d-83b6-4cc8-b203-e1a7a904f420",
   "metadata": {},
   "outputs": [
    {
     "name": "stdout",
     "output_type": "stream",
     "text": [
      "rishi\n"
     ]
    }
   ],
   "source": [
    "list2=[10,'rishi','true',15.5,'rishu',12]\n",
    "print(list2[1])                                #indexing"
   ]
  },
  {
   "cell_type": "code",
   "execution_count": 7,
   "id": "ac5594a2-49f6-427a-b064-8d9e4d929920",
   "metadata": {},
   "outputs": [
    {
     "name": "stdout",
     "output_type": "stream",
     "text": [
      "['rishi', 'true', 15.5]\n"
     ]
    }
   ],
   "source": [
    "list2=[10,'rishi','true',15.5,'rishu',12]\n",
    "print(list2[1:4])                               #slicing "
   ]
  },
  {
   "cell_type": "code",
   "execution_count": null,
   "id": "232c29cf-d65b-4f69-a9b8-28e57cbf10b3",
   "metadata": {},
   "outputs": [],
   "source": [
    "#count()"
   ]
  },
  {
   "cell_type": "code",
   "execution_count": 8,
   "id": "f118831c-3b3e-4950-8d70-25587555007f",
   "metadata": {},
   "outputs": [
    {
     "name": "stdout",
     "output_type": "stream",
     "text": [
      "1\n"
     ]
    }
   ],
   "source": [
    "list2=[10,'rishi','true',15.5,'rishu',12]\n",
    "print(list2.count('true'))                      #count the frequency of elements in list by count()"
   ]
  },
  {
   "cell_type": "code",
   "execution_count": 9,
   "id": "d392214c-dbb4-4fe8-aa76-2e769e4926b0",
   "metadata": {},
   "outputs": [],
   "source": [
    "#index()"
   ]
  },
  {
   "cell_type": "code",
   "execution_count": 13,
   "id": "2aedbdf4-03e5-425b-8420-2b5359c1cb86",
   "metadata": {},
   "outputs": [
    {
     "name": "stdout",
     "output_type": "stream",
     "text": [
      "5\n"
     ]
    }
   ],
   "source": [
    "list2=[10,'rishi','true',15.5,'rishu',15.5]\n",
    "print(list2.index(15.5,4)) "
   ]
  },
  {
   "cell_type": "code",
   "execution_count": 14,
   "id": "6c6ac0b2-cf77-442f-8a39-175c256eb07c",
   "metadata": {},
   "outputs": [],
   "source": [
    "#insert()"
   ]
  },
  {
   "cell_type": "code",
   "execution_count": 15,
   "id": "d484c1df-4939-40df-b49d-73963471fc05",
   "metadata": {},
   "outputs": [
    {
     "name": "stdout",
     "output_type": "stream",
     "text": [
      "[10, 'rishi', 'learn coding', 'true', 15.5, 'rishu', 12]\n"
     ]
    }
   ],
   "source": [
    "list2=[10,'rishi','true',15.5,'rishu',12]\n",
    "list2.insert(2,'learn coding')\n",
    "print(list2)"
   ]
  },
  {
   "cell_type": "code",
   "execution_count": 16,
   "id": "ef1b798a-e5d6-4856-98a4-01a94d518679",
   "metadata": {},
   "outputs": [],
   "source": [
    "#pop() -- delete the element or item from list"
   ]
  },
  {
   "cell_type": "code",
   "execution_count": 20,
   "id": "dff347e9-53bf-4f82-80c0-29b583eeeca2",
   "metadata": {},
   "outputs": [
    {
     "name": "stdout",
     "output_type": "stream",
     "text": [
      "[10, 'rishi', 15.5, 'rishu', 12]\n"
     ]
    }
   ],
   "source": [
    "list2=[10,'rishi','true',15.5,'rishu',12]\n",
    "list2.pop(2)                                #give the index position to pop or delete the item from the list\n",
    "print(list2)"
   ]
  },
  {
   "cell_type": "code",
   "execution_count": 22,
   "id": "3799b94b-b92c-4e48-8d6b-515c78d5d303",
   "metadata": {},
   "outputs": [
    {
     "name": "stdout",
     "output_type": "stream",
     "text": [
      "[10, 'rishi', 'true', 15.5, 'rishu']\n"
     ]
    }
   ],
   "source": [
    "list2=[10,'rishi','true',15.5,'rishu',12]\n",
    "list2.pop()                                 # without index value it by default delete the last element or item from the list\n",
    "print(list2)"
   ]
  },
  {
   "cell_type": "code",
   "execution_count": 23,
   "id": "be7ad723-6c6d-46cb-b3ba-76a96872d8e2",
   "metadata": {},
   "outputs": [],
   "source": [
    "#extend ()"
   ]
  },
  {
   "cell_type": "code",
   "execution_count": 27,
   "id": "0c5cb57b-a9b7-4256-a62c-736994d13af5",
   "metadata": {},
   "outputs": [
    {
     "name": "stdout",
     "output_type": "stream",
     "text": [
      "[10, 'rishi', 'true', 15.5, 'rishu', 12, 'rakhi', 'priya']\n"
     ]
    }
   ],
   "source": [
    "list2=[10,'rishi','true',15.5,'rishu',12]\n",
    "list3=['rakhi','priya']\n",
    "list2.extend(list3)                         #concatinate 2 list variables\n",
    "print(list2)"
   ]
  },
  {
   "cell_type": "code",
   "execution_count": 28,
   "id": "071b37b7-daa8-4485-8d96-ef734ff18628",
   "metadata": {},
   "outputs": [],
   "source": [
    "#copy()"
   ]
  },
  {
   "cell_type": "code",
   "execution_count": 30,
   "id": "ac8c0654-0d30-4529-b050-7ec8178d0269",
   "metadata": {},
   "outputs": [
    {
     "name": "stdout",
     "output_type": "stream",
     "text": [
      "[10, 'rishi', 'true', 15.5, 'rishu', 12]\n"
     ]
    }
   ],
   "source": [
    "list2=[10,'rishi','true',15.5,'rishu',12]\n",
    "list3=list2.copy()                          #all the elements from list2 copied to list3\n",
    "print(list3)"
   ]
  },
  {
   "cell_type": "code",
   "execution_count": 34,
   "id": "afae948d-2516-4c0a-b098-efa972b7f8b2",
   "metadata": {},
   "outputs": [],
   "source": [
    "# copy-- 2nd method"
   ]
  },
  {
   "cell_type": "code",
   "execution_count": 33,
   "id": "e95ec8d3-6893-4076-b3dd-6f9ebecfc30a",
   "metadata": {},
   "outputs": [
    {
     "name": "stdout",
     "output_type": "stream",
     "text": [
      "[10, 'rishi', 'true', 15.5, 'rishu', 12]\n"
     ]
    }
   ],
   "source": [
    "list2=[10,'rishi','true',15.5,'rishu',12]\n",
    "list3=list2[:]\n",
    "print(list3)"
   ]
  },
  {
   "cell_type": "code",
   "execution_count": 35,
   "id": "118003c9-0cee-482b-beac-a74fac6af891",
   "metadata": {},
   "outputs": [],
   "source": [
    "#sort()"
   ]
  },
  {
   "cell_type": "code",
   "execution_count": 38,
   "id": "6f7ba803-9ea4-4def-8000-ff68fd7e61d1",
   "metadata": {},
   "outputs": [
    {
     "name": "stdout",
     "output_type": "stream",
     "text": [
      "['10', '12', '15.5', 'rishi', 'rishu', 'true']\n"
     ]
    }
   ],
   "source": [
    "list2=['10','rishi','true','15.5','rishu','12']\n",
    "list2.sort()                               #sort the items in ascending or descending order\n",
    "print(list2)"
   ]
  },
  {
   "cell_type": "code",
   "execution_count": 43,
   "id": "3aa07836-30f1-4f99-88fe-1b2186c168d2",
   "metadata": {},
   "outputs": [
    {
     "name": "stdout",
     "output_type": "stream",
     "text": [
      "['true', 'rishu', 'rishi', '15.5', '12', '10']\n"
     ]
    }
   ],
   "source": [
    " list2=['10','rishi','true','15.5','rishu','12']\n",
    "list2.sort(reverse=True)                  #sorted in descending order\n",
    "print(list2)"
   ]
  },
  {
   "cell_type": "code",
   "execution_count": 44,
   "id": "24f2804f-f3ae-4efd-9bec-8b5d3e23ad77",
   "metadata": {},
   "outputs": [],
   "source": [
    "#reverse()"
   ]
  },
  {
   "cell_type": "code",
   "execution_count": 47,
   "id": "20a8acff-8e84-4863-ae7e-1302b5989764",
   "metadata": {},
   "outputs": [
    {
     "name": "stdout",
     "output_type": "stream",
     "text": [
      "[12, 'rishu', 15.5, 'true', 'rishi', 10]\n"
     ]
    }
   ],
   "source": [
    "list2=[10,'rishi','true',15.5,'rishu',12]\n",
    "list2.reverse()                         # print the elements in the reverse order\n",
    "print(list2)"
   ]
  },
  {
   "cell_type": "code",
   "execution_count": 48,
   "id": "de36df9d-65fd-4988-b330-0a83f72213c2",
   "metadata": {},
   "outputs": [],
   "source": [
    "#nested list or list inside list"
   ]
  },
  {
   "cell_type": "code",
   "execution_count": 49,
   "id": "ddc8a46c-2f4e-4528-8c9c-6653c9479c83",
   "metadata": {},
   "outputs": [
    {
     "name": "stdout",
     "output_type": "stream",
     "text": [
      "[10, 'rishi', 'true', 15.5, 'rishu', 12, ['rakhi', ['rishu']]]\n"
     ]
    }
   ],
   "source": [
    "list2=[10,'rishi','true',15.5,'rishu',12,['rakhi',['rishu']]]\n",
    "print(list2)"
   ]
  },
  {
   "cell_type": "code",
   "execution_count": 73,
   "id": "0eaf2e66-a63d-41f7-a57a-ac25074008c6",
   "metadata": {},
   "outputs": [],
   "source": [
    "#list unpacking"
   ]
  },
  {
   "cell_type": "code",
   "execution_count": 74,
   "id": "47945d68-84ce-4874-8c4c-61b48597fbbb",
   "metadata": {},
   "outputs": [
    {
     "name": "stdout",
     "output_type": "stream",
     "text": [
      "pinku\n",
      "rishi\n",
      "true\n"
     ]
    }
   ],
   "source": [
    "list2=['pinku','rishi','true']\n",
    "n1,n2,n3=list2\n",
    "print(n1)\n",
    "print(n2)\n",
    "print(n3)"
   ]
  },
  {
   "cell_type": "code",
   "execution_count": 75,
   "id": "f3c34a60-9c7e-45b7-b039-3724e11bc31f",
   "metadata": {},
   "outputs": [],
   "source": [
    "#list comprehension"
   ]
  },
  {
   "cell_type": "code",
   "execution_count": 76,
   "id": "e2504478-9f6a-4e17-9a0d-dbf8a22c6ef1",
   "metadata": {},
   "outputs": [
    {
     "name": "stdout",
     "output_type": "stream",
     "text": [
      "[1, 2, 3, 4, 5, 6, 7, 8, 9, 10, 11, 12, 13, 14, 15, 16, 17, 18, 19, 20, 21, 22, 23, 24, 25, 26, 27, 28, 29, 30, 31, 32, 33, 34, 35, 36, 37, 38, 39, 40, 41, 42, 43, 44, 45, 46, 47, 48, 49, 50, 51, 52, 53, 54, 55, 56, 57, 58, 59, 60, 61, 62, 63, 64, 65, 66, 67, 68, 69, 70, 71, 72, 73, 74, 75, 76, 77, 78, 79, 80, 81, 82, 83, 84, 85, 86, 87, 88, 89, 90, 91, 92, 93, 94, 95, 96, 97, 98, 99, 100]\n"
     ]
    }
   ],
   "source": [
    "l=[]\n",
    "n=[m for m in range(1,101)]\n",
    "print(n)"
   ]
  },
  {
   "cell_type": "code",
   "execution_count": null,
   "id": "c8566563-cf01-4316-9120-d9c6114809c7",
   "metadata": {},
   "outputs": [],
   "source": []
  },
  {
   "cell_type": "code",
   "execution_count": null,
   "id": "209da119-fd8e-4fe6-a84e-2897b486b000",
   "metadata": {},
   "outputs": [],
   "source": []
  }
 ],
 "metadata": {
  "kernelspec": {
   "display_name": "Python 3 (ipykernel)",
   "language": "python",
   "name": "python3"
  },
  "language_info": {
   "codemirror_mode": {
    "name": "ipython",
    "version": 3
   },
   "file_extension": ".py",
   "mimetype": "text/x-python",
   "name": "python",
   "nbconvert_exporter": "python",
   "pygments_lexer": "ipython3",
   "version": "3.11.5"
  }
 },
 "nbformat": 4,
 "nbformat_minor": 5
}
