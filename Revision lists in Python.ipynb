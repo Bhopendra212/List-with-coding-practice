{
 "cells": [
  {
   "cell_type": "code",
   "execution_count": 2,
   "id": "ed6b37eb-7f82-4981-8e0a-cae147f48dc5",
   "metadata": {},
   "outputs": [],
   "source": [
    "#creating list in python"
   ]
  },
  {
   "cell_type": "code",
   "execution_count": 3,
   "id": "ec414bea-b7d0-4849-ba32-74b24625ee3f",
   "metadata": {},
   "outputs": [
    {
     "name": "stdout",
     "output_type": "stream",
     "text": [
      "['apple', 'banana', 'cherry']\n",
      "<class 'list'>\n"
     ]
    }
   ],
   "source": [
    "mylist=['apple','banana','cherry']\n",
    "print(mylist)\n",
    "print(type(mylist))"
   ]
  },
  {
   "cell_type": "code",
   "execution_count": 4,
   "id": "5c54f8cc-fac1-4a8f-9817-55a00ab9ffaf",
   "metadata": {},
   "outputs": [],
   "source": [
    "#allow duplicates"
   ]
  },
  {
   "cell_type": "code",
   "execution_count": 5,
   "id": "6874ee56-276f-4ee0-a01f-60a9bcb84e51",
   "metadata": {},
   "outputs": [
    {
     "name": "stdout",
     "output_type": "stream",
     "text": [
      "['apple', 'banana', 'cherry', 'apple', 'cherry', 'banana']\n"
     ]
    }
   ],
   "source": [
    "mylist=['apple','banana','cherry','apple','cherry','banana']\n",
    "print(mylist)"
   ]
  },
  {
   "cell_type": "code",
   "execution_count": 8,
   "id": "db57b0b4-8f6f-4d00-908d-5ecdc5800ffc",
   "metadata": {},
   "outputs": [],
   "source": [
    "#data types in a list"
   ]
  },
  {
   "cell_type": "code",
   "execution_count": 7,
   "id": "c6bd1a2c-0536-46a2-97a1-f3698766b10d",
   "metadata": {},
   "outputs": [
    {
     "name": "stdout",
     "output_type": "stream",
     "text": [
      "['apple', 'banana', 'cherry']\n",
      "[2, 5, 8]\n",
      "[3.5, 5.5, 9.2]\n",
      "[True, False, True]\n"
     ]
    }
   ],
   "source": [
    "list1=['apple','banana','cherry']\n",
    "list2=[2,5,8]\n",
    "list3=[3.5,5.5,9.2]\n",
    "list4=[True,False,True]\n",
    "print(list1)\n",
    "print(list2)\n",
    "print(list3)\n",
    "print(list4)"
   ]
  },
  {
   "cell_type": "code",
   "execution_count": 9,
   "id": "71c2b0ac-2868-4fca-9686-c423c2c7afc1",
   "metadata": {},
   "outputs": [
    {
     "name": "stdout",
     "output_type": "stream",
     "text": [
      "[12, -8, -4, 2, 7, 5.5, 2.6, 4.5, 'student', 'rishi', 'rishu', True, False]\n"
     ]
    }
   ],
   "source": [
    "a=[12,-8,-4,2,7,5.5,2.6,4.5,'student','rishi','rishu',True,False]\n",
    "print(a)"
   ]
  },
  {
   "cell_type": "code",
   "execution_count": 10,
   "id": "209e89a6-a9b9-4264-af56-a8353bba8419",
   "metadata": {},
   "outputs": [],
   "source": [
    "# list length"
   ]
  },
  {
   "cell_type": "code",
   "execution_count": 11,
   "id": "cf632273-84e6-445b-8bb9-e75d8ecb42a6",
   "metadata": {},
   "outputs": [
    {
     "name": "stdout",
     "output_type": "stream",
     "text": [
      "13\n"
     ]
    }
   ],
   "source": [
    "a=[12,-8,-4,2,7,5.5,2.6,4.5,'student','rishi','rishu',True,False]\n",
    "print(len(a))"
   ]
  },
  {
   "cell_type": "code",
   "execution_count": 12,
   "id": "eddb19bd-4d2f-493f-9849-8c32d4015e06",
   "metadata": {},
   "outputs": [],
   "source": [
    "# Ascess items"
   ]
  },
  {
   "cell_type": "code",
   "execution_count": 15,
   "id": "a83971b6-6a6f-41db-9ff4-b6dd88d7d513",
   "metadata": {},
   "outputs": [
    {
     "name": "stdout",
     "output_type": "stream",
     "text": [
      "128\n"
     ]
    }
   ],
   "source": [
    "thislist=[12,15,26,78,14,96,142,128,88]\n",
    "print(thislist[7])"
   ]
  },
  {
   "cell_type": "code",
   "execution_count": 16,
   "id": "9585172d-39c4-409e-90ca-71b4c9336c0c",
   "metadata": {},
   "outputs": [
    {
     "name": "stdout",
     "output_type": "stream",
     "text": [
      "96\n"
     ]
    }
   ],
   "source": [
    "thislist=[12,15,26,78,14,96,142,128,88]\n",
    "print(thislist[-4])"
   ]
  },
  {
   "cell_type": "code",
   "execution_count": 17,
   "id": "dbd21132-43b8-4af0-b036-c364944ff0ae",
   "metadata": {},
   "outputs": [],
   "source": [
    "#slicing of the list"
   ]
  },
  {
   "cell_type": "code",
   "execution_count": 18,
   "id": "e3a16d9f-c2cb-4c19-831d-160905882fab",
   "metadata": {},
   "outputs": [
    {
     "name": "stdout",
     "output_type": "stream",
     "text": [
      "[12, 15, 26, 78, 14, 96]\n"
     ]
    }
   ],
   "source": [
    "thislist=[12,15,26,78,14,96,142,128,88]\n",
    "print(thislist[0:6])"
   ]
  },
  {
   "cell_type": "code",
   "execution_count": 19,
   "id": "f5d3faac-ace9-4a16-865e-c55e6057f203",
   "metadata": {},
   "outputs": [
    {
     "name": "stdout",
     "output_type": "stream",
     "text": [
      "[12, 26, 14, 142]\n"
     ]
    }
   ],
   "source": [
    "thislist=[12,15,26,78,14,96,142,128,88]\n",
    "print(thislist[0:8:2])"
   ]
  },
  {
   "cell_type": "code",
   "execution_count": 24,
   "id": "8bed7900-a29a-4a30-bae1-2f6bccc40c84",
   "metadata": {},
   "outputs": [],
   "source": [
    "#change/replace items"
   ]
  },
  {
   "cell_type": "code",
   "execution_count": 23,
   "id": "1e673c38-c9c5-4a82-b7d7-37d7c5a522ff",
   "metadata": {},
   "outputs": [
    {
     "name": "stdout",
     "output_type": "stream",
     "text": [
      "['apple', 'orange', 'cherry']\n"
     ]
    }
   ],
   "source": [
    "b=['apple','banana','cherry']\n",
    "b[1]='orange'\n",
    "print(b)"
   ]
  },
  {
   "cell_type": "code",
   "execution_count": 26,
   "id": "54b63cdc-4fdf-4599-9320-b3f94ac2a711",
   "metadata": {},
   "outputs": [
    {
     "name": "stdout",
     "output_type": "stream",
     "text": [
      "[2, 3, 'student', 7, 89, 34, 56, 23, 12, 18, 24]\n"
     ]
    }
   ],
   "source": [
    "a=[2,3,5,7,89,34,56,23,12,18,24]\n",
    "a[2]='student'\n",
    "print(a)"
   ]
  },
  {
   "cell_type": "code",
   "execution_count": 27,
   "id": "17ed185e-deee-4ecf-8789-b6900a9ff29c",
   "metadata": {},
   "outputs": [],
   "source": [
    "#replace a range of item values"
   ]
  },
  {
   "cell_type": "code",
   "execution_count": 28,
   "id": "c957f0d2-88bf-42d4-ac7f-a29fa6395f7a",
   "metadata": {},
   "outputs": [
    {
     "name": "stdout",
     "output_type": "stream",
     "text": [
      "[2, 3, 'books', 'pen', 'paper', 89, 34, 56, 23, 12, 18, 24]\n"
     ]
    }
   ],
   "source": [
    "a=[2,3,5,7,89,34,56,23,12,18,24]\n",
    "a[2:4]=['books','pen','paper']\n",
    "print(a)"
   ]
  },
  {
   "cell_type": "code",
   "execution_count": 29,
   "id": "7e91c566-6e78-4a10-a073-1da53fb1cdc0",
   "metadata": {},
   "outputs": [],
   "source": [
    "# add an item"
   ]
  },
  {
   "cell_type": "code",
   "execution_count": 30,
   "id": "e7bb5769-ab7e-4769-b5d0-1f6830173eba",
   "metadata": {},
   "outputs": [
    {
     "name": "stdout",
     "output_type": "stream",
     "text": [
      "[2, 3, 5, 7, 89, 23, 12, 18, 24, -9]\n"
     ]
    }
   ],
   "source": [
    "a=[2,3,5,7,89,23,12,18,24]\n",
    "a.append(-9)\n",
    "print(a)"
   ]
  },
  {
   "cell_type": "code",
   "execution_count": 31,
   "id": "54ff29e3-83f0-4e5e-89f5-03adeead4362",
   "metadata": {},
   "outputs": [],
   "source": [
    "#remove an item"
   ]
  },
  {
   "cell_type": "code",
   "execution_count": 33,
   "id": "935d04b9-abce-4367-ae9f-77ce1b64f0ab",
   "metadata": {},
   "outputs": [
    {
     "name": "stdout",
     "output_type": "stream",
     "text": [
      "[23, 35, 45, 65, 55, 45, 39, 87]\n"
     ]
    }
   ],
   "source": [
    "m=[23,35,45,78,65,55,45,39,87]\n",
    "m.remove(78)\n",
    "print(m)"
   ]
  },
  {
   "cell_type": "code",
   "execution_count": 34,
   "id": "7a875396-0460-4054-b7b9-6161ccaff771",
   "metadata": {},
   "outputs": [],
   "source": [
    "#reverse an item"
   ]
  },
  {
   "cell_type": "code",
   "execution_count": 35,
   "id": "b237fe1d-e06e-4aa5-94d4-863357078864",
   "metadata": {},
   "outputs": [
    {
     "name": "stdout",
     "output_type": "stream",
     "text": [
      "['data', 'python', 4, 3, 2, 1]\n"
     ]
    }
   ],
   "source": [
    "a=[1,2,3,4,'python','data']\n",
    "a.reverse()\n",
    "print(a)"
   ]
  },
  {
   "cell_type": "code",
   "execution_count": 39,
   "id": "1002105b-8140-4f41-9281-05cd87975ce4",
   "metadata": {},
   "outputs": [],
   "source": [
    "# sum of all the items in the list"
   ]
  },
  {
   "cell_type": "code",
   "execution_count": 38,
   "id": "ec1fffb3-891b-43a5-820b-6dee7cc750ce",
   "metadata": {},
   "outputs": [
    {
     "name": "stdout",
     "output_type": "stream",
     "text": [
      "12\n",
      "The sum of list is: 148\n"
     ]
    }
   ],
   "source": [
    "l=[12,25,36,35,-22,-9,3,-6,52,-36,23,35]\n",
    "print(len(l))\n",
    "a=0\n",
    "for i in range(12):\n",
    "    a=a+l[i]\n",
    "    i=i+1\n",
    "print('The sum of list is:',a)    "
   ]
  },
  {
   "cell_type": "code",
   "execution_count": 40,
   "id": "89f55af3-898d-4d63-a033-ac7ecaa21afe",
   "metadata": {},
   "outputs": [],
   "source": [
    "# multiply all the items of the list"
   ]
  },
  {
   "cell_type": "code",
   "execution_count": 50,
   "id": "a030723d-e201-4f24-91df-6a998c747570",
   "metadata": {},
   "outputs": [
    {
     "name": "stdout",
     "output_type": "stream",
     "text": [
      "Total multiplication of list is: 1\n",
      "Total multiplication of list is: 2\n",
      "Total multiplication of list is: 6\n",
      "Total multiplication of list is: 24\n",
      "Total multiplication of list is: 120\n",
      "Total multiplication of list is: 720\n",
      "Total multiplication of list is: 5040\n",
      "Total multiplication of list is: 40320\n",
      "Total multiplication of list is: 362880\n",
      "Total multiplication of list is: 3628800\n"
     ]
    }
   ],
   "source": [
    "b=[1,2,3,4,5,6,7,8,9,10]\n",
    "a=1\n",
    "for i in b:\n",
    "    a=a*i\n",
    "    i+=1\n",
    "    print('Total multiplication of list is:',a) "
   ]
  },
  {
   "cell_type": "code",
   "execution_count": null,
   "id": "6dcf63c4-5939-4d79-ba78-e33b482dee88",
   "metadata": {},
   "outputs": [],
   "source": []
  }
 ],
 "metadata": {
  "kernelspec": {
   "display_name": "Python 3 (ipykernel)",
   "language": "python",
   "name": "python3"
  },
  "language_info": {
   "codemirror_mode": {
    "name": "ipython",
    "version": 3
   },
   "file_extension": ".py",
   "mimetype": "text/x-python",
   "name": "python",
   "nbconvert_exporter": "python",
   "pygments_lexer": "ipython3",
   "version": "3.11.5"
  }
 },
 "nbformat": 4,
 "nbformat_minor": 5
}
